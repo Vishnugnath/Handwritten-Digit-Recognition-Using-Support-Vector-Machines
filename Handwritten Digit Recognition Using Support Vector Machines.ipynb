{
 "cells": [
  {
   "cell_type": "markdown",
   "id": "2cc8c09a-af0f-4124-901e-5d358a7b06a7",
   "metadata": {},
   "source": [
    "# Handwritten Digit Recognition Using Support Vector Machines"
   ]
  },
  {
   "cell_type": "code",
   "execution_count": 2,
   "id": "1fe8b820-3c92-420d-8c59-d08d871fe217",
   "metadata": {},
   "outputs": [],
   "source": [
    "from sklearn.datasets import fetch_openml\n",
    "from sklearn.model_selection import train_test_split\n",
    "from sklearn.preprocessing import StandardScaler\n",
    "\n",
    "# Load the dataset with the 'auto' parser\n",
    "mnist = fetch_openml('mnist_784', version=1, parser='auto')\n",
    "X, y = mnist.data, mnist.target\n",
    "\n",
    "# Split into training and testing sets\n",
    "X_train, X_test, y_train, y_test = train_test_split(X, y, test_size=0.2, random_state=42)\n",
    "\n",
    "# Scale the data\n",
    "scaler = StandardScaler()\n",
    "X_train = scaler.fit_transform(X_train)\n",
    "X_test = scaler.transform(X_test)\n"
   ]
  },
  {
   "cell_type": "code",
   "execution_count": 4,
   "id": "e8a0e53b-9706-43b6-9d72-7ac005475e95",
   "metadata": {},
   "outputs": [
    {
     "name": "stdout",
     "output_type": "stream",
     "text": [
      "[[1310    1    5    1    0    5   11    5    5    0]\n",
      " [   0 1580    8    2    1    0    0    5    3    1]\n",
      " [   3    8 1323    8    8    3    5   11    9    2]\n",
      " [   1    3   15 1362    3   13    1   24    8    3]\n",
      " [   1    1    9    0 1247    2    5    6    3   21]\n",
      " [   2    3    3   18    2 1219   13    8    5    0]\n",
      " [   3    0    3    0    7    5 1365   10    3    0]\n",
      " [   2    4   10    1    6    1    0 1459    1   19]\n",
      " [   2    7   11   11    6   10    4   12 1290    4]\n",
      " [   5    6    6   12   20    0    0   38    6 1327]]\n",
      "              precision    recall  f1-score   support\n",
      "\n",
      "           0       0.99      0.98      0.98      1343\n",
      "           1       0.98      0.99      0.98      1600\n",
      "           2       0.95      0.96      0.95      1380\n",
      "           3       0.96      0.95      0.96      1433\n",
      "           4       0.96      0.96      0.96      1295\n",
      "           5       0.97      0.96      0.96      1273\n",
      "           6       0.97      0.98      0.97      1396\n",
      "           7       0.92      0.97      0.95      1503\n",
      "           8       0.97      0.95      0.96      1357\n",
      "           9       0.96      0.93      0.95      1420\n",
      "\n",
      "    accuracy                           0.96     14000\n",
      "   macro avg       0.96      0.96      0.96     14000\n",
      "weighted avg       0.96      0.96      0.96     14000\n",
      "\n"
     ]
    }
   ],
   "source": [
    "from sklearn.svm import SVC\n",
    "from sklearn.metrics import classification_report, confusion_matrix\n",
    "\n",
    "# Create an SVM classifier\n",
    "svm_classifier = SVC(kernel='rbf', C=1, gamma='scale')\n",
    "\n",
    "# Train the model\n",
    "svm_classifier.fit(X_train, y_train)\n",
    "\n",
    "# Make predictions\n",
    "y_pred = svm_classifier.predict(X_test)\n",
    "\n",
    "# Evaluate the model\n",
    "print(confusion_matrix(y_test, y_pred))\n",
    "print(classification_report(y_test, y_pred))\n"
   ]
  }
 ],
 "metadata": {
  "kernelspec": {
   "display_name": "Python 3 (ipykernel)",
   "language": "python",
   "name": "python3"
  },
  "language_info": {
   "codemirror_mode": {
    "name": "ipython",
    "version": 3
   },
   "file_extension": ".py",
   "mimetype": "text/x-python",
   "name": "python",
   "nbconvert_exporter": "python",
   "pygments_lexer": "ipython3",
   "version": "3.11.7"
  }
 },
 "nbformat": 4,
 "nbformat_minor": 5
}
